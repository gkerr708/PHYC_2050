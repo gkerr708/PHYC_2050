{
 "cells": [
  {
   "cell_type": "code",
   "execution_count": 1,
   "metadata": {},
   "outputs": [],
   "source": [
    "import numpy as np, pandas as pd, matplotlib.pyplot as plt"
   ]
  },
  {
   "cell_type": "code",
   "execution_count": 5,
   "metadata": {},
   "outputs": [
    {
     "data": {
      "text/plain": [
       "'It is way more easy to use f-strings'"
      ]
     },
     "execution_count": 5,
     "metadata": {},
     "output_type": "execute_result"
    }
   ],
   "source": [
    "var = 'f-strings'\n",
    "str = f'It is way more easy to use {var}'\n",
    "str"
   ]
  },
  {
   "cell_type": "code",
   "execution_count": 30,
   "metadata": {},
   "outputs": [
    {
     "data": {
      "text/plain": [
       "([1, 2, (3, 4, 5, 6)], tuple)"
      ]
     },
     "execution_count": 30,
     "metadata": {},
     "output_type": "execute_result"
    }
   ],
   "source": [
    "def eat(x, y, *args):\n",
    "    list1 = [x,y,args]\n",
    "    return list1, type(args)\n",
    "\n",
    "eat(1,2,3,4,5,6)"
   ]
  },
  {
   "cell_type": "code",
   "execution_count": 17,
   "metadata": {},
   "outputs": [
    {
     "data": {
      "text/plain": [
       "({'hello': 3, 'goodbye': 5.0}, dict)"
      ]
     },
     "execution_count": 17,
     "metadata": {},
     "output_type": "execute_result"
    }
   ],
   "source": [
    "def kwarg_function(**kwargs):\n",
    "    return kwargs\n",
    "\n",
    "kwarg_function(hello = 3, goodbye = 5.0)"
   ]
  },
  {
   "cell_type": "code",
   "execution_count": 53,
   "metadata": {},
   "outputs": [
    {
     "data": {
      "text/plain": [
       "'im wearing a hat'"
      ]
     },
     "execution_count": 53,
     "metadata": {},
     "output_type": "execute_result"
    }
   ],
   "source": [
    "var = 'hat'\n",
    "str = f\"im wearing a {var}\"\n",
    "str"
   ]
  },
  {
   "attachments": {},
   "cell_type": "markdown",
   "metadata": {},
   "source": [
    "A few questions from todays lecture:\n",
    "    1. are u using vim \n",
    "    2. is it worth learing vim\n",
    "    3. is it okay if we only use f-strings"
   ]
  },
  {
   "cell_type": "code",
   "execution_count": 51,
   "metadata": {},
   "outputs": [
    {
     "name": "stdout",
     "output_type": "stream",
     "text": [
      "x before calling f() is 5\n",
      "x after calling f() is 0\n"
     ]
    }
   ],
   "source": [
    "x=5\n",
    "def f():\n",
    "    global x\n",
    "    x=0\n",
    "print(f'x before calling f() is {x}')\n",
    "f()\n",
    "print(f'x after calling f() is {x}')\n"
   ]
  }
 ],
 "metadata": {
  "kernelspec": {
   "display_name": "Python 3",
   "language": "python",
   "name": "python3"
  },
  "language_info": {
   "codemirror_mode": {
    "name": "ipython",
    "version": 3
   },
   "file_extension": ".py",
   "mimetype": "text/x-python",
   "name": "python",
   "nbconvert_exporter": "python",
   "pygments_lexer": "ipython3",
   "version": "3.10.4"
  },
  "orig_nbformat": 4,
  "vscode": {
   "interpreter": {
    "hash": "fb8b4d40e806c284d27a7e160483c72c5147a81ca3be5b9f8903a977178287b6"
   }
  }
 },
 "nbformat": 4,
 "nbformat_minor": 2
}
